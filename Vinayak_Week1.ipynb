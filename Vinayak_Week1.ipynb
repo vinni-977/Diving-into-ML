{
 "cells": [
  {
   "cell_type": "markdown",
   "metadata": {
    "id": "lORIgnt_yoZD"
   },
   "source": [
    "# **Week 1 : Linear Algebra and Calculus**\n",
    "\n",
    "In this assignment, we shall explore the concepts of analytic and numeric computation of gradients. Further, we will have a look at the computation graph which is a central concept to building a neural network. For learning how gradients are computed analytically, refer to the resources provided in this week."
   ]
  },
  {
   "cell_type": "markdown",
   "metadata": {
    "id": "I-z3YLRv1U_a"
   },
   "source": [
    "<img src=\"https://encrypted-tbn0.gstatic.com/images?q=tbn:ANd9GcQWsYeD8ZlYxFBB33qIn7bwQvP-KuvLZXJOoA&usqp=CAU\"\n",
    " style=\"float:center;width:200px;height:200px;\">"
   ]
  },
  {
   "cell_type": "markdown",
   "metadata": {
    "id": "nn_1mKR02Swb"
   },
   "source": [
    "# **Importing Libraries**\n",
    "Feel free to import any additional libraries required"
   ]
  },
  {
   "cell_type": "code",
   "execution_count": 95,
   "metadata": {
    "id": "ugD-twoX2T4N"
   },
   "outputs": [],
   "source": [
    "# Import all libraries here\n",
    "import numpy as np\n",
    "import matplotlib.pyplot as plt\n",
    "import pandas as pd\n",
    "from scipy.stats import bernoulli \n",
    "import random\n",
    "\n",
    "\n",
    "\n",
    "\n",
    "# Setting the seed for reproducible results\n"
   ]
  },
  {
   "cell_type": "markdown",
   "metadata": {
    "id": "LBmB8rFN2XT7"
   },
   "source": [
    "# *Problem 1(a)*\n",
    "\n",
    "In this problem, we shall be exploring the concepts of analytic and numeric computation of gradients for scalar valued functions. \n",
    "\n",
    "\\begin{equation}\n",
    "z = w^{T}x + b \\\\ \n",
    "\\hat{y} = \\sigma(z) = \\frac{1}{1+e^{-z}}\\\\ \n",
    "L(\\hat{y}, y) = y.log(\\hat{y}) + (1-y).log(1-\\hat{y})\n",
    "\\end{equation}\n",
    "\n",
    "For this set of equations, the vector w, and scalars b, y are to be treated as constants. \\\\\n",
    "\n",
    "Now, let us find the analytic gradient of the function L with respect to the function x. That is, compute $\\frac{\\delta L}{\\delta x}$. Write the answer obtained as code in the function provided."
   ]
  },
  {
   "cell_type": "markdown",
   "metadata": {
    "id": "qC-5BMVs-abp"
   },
   "source": [
    "Initialise $w$ to a $10 \\times 1$ vector sampled over a standard multivariate gaussian distribution, b to a uniform random variable over the interval $(0, 1)$, y to a bernoulli random variable over $\\{0, 1\\}$"
   ]
  },
  {
   "cell_type": "code",
   "execution_count": 96,
   "metadata": {
    "id": "1z1FuiZn-mg1"
   },
   "outputs": [
    {
     "name": "stdout",
     "output_type": "stream",
     "text": [
      "[0.9449238  0.89658477 0.35083957 0.90051393 0.34927309 0.40916371\n",
      " 0.32700501 0.67517104 0.63804224 0.85439009] [1 0 0 1 1 0 1 0 1 0] [0.13231808 0.58944511 0.41201369 0.0315432  0.29935947 0.83500969\n",
      " 0.40789038 0.4861422  0.16135953 0.37288659]\n"
     ]
    }
   ],
   "source": [
    "# Initialisation : \n",
    "w=np.random.rand(10)\n",
    "b =np.random.uniform(0,1)\n",
    "y=bernoulli.rvs(np.random.rand(10),size = 10) \n",
    "\n",
    "x=np.random.rand(10)\n",
    "\n",
    "print(w,y,x)"
   ]
  },
  {
   "cell_type": "code",
   "execution_count": 98,
   "metadata": {},
   "outputs": [],
   "source": [
    "def sigmoid (z):\n",
    "    g = 1/(1+np.exp(-z))\n",
    "    return g\n",
    "    "
   ]
  },
  {
   "cell_type": "code",
   "execution_count": 104,
   "metadata": {
    "id": "rhgmU3v-6jhd"
   },
   "outputs": [
    {
     "name": "stdout",
     "output_type": "stream",
     "text": [
      "2.7437983346481425\n",
      "[0.057109166450347935, -0.8423971074947822, -0.32963557832655366, 0.05442512915978913, 0.02110931592335415, -0.38443473530464034, 0.019763481199682405, -0.6343651552530485, 0.03856190366104577, -0.8027525906278622]\n"
     ]
    }
   ],
   "source": [
    "def analytic_grad(x,y,w,b) :\n",
    "    \n",
    "\n",
    "    ### WRITE CODE BELOW ###\n",
    "    mul=[]\n",
    "   \n",
    "    z=np.dot(x,w)\n",
    "    z+=b\n",
    "    print(z)\n",
    "    for i in range(0,10):\n",
    "        \n",
    "        a=w[i]*(y[i]-sigmoid(z))\n",
    "        mul.append(a)\n",
    "    return mul\n",
    "    ### WRITE CODE ABOVE ###\n",
    "k=analytic_grad(x,y,w,b)\n",
    "print(k)"
   ]
  },
  {
   "cell_type": "code",
   "execution_count": 132,
   "metadata": {},
   "outputs": [],
   "source": [
    "def funxtion1(w,x,epsilion,b):\n",
    "    \n",
    "    x=x*(1+epsilion)\n",
    "    a=np.dot(x,w)\n",
    "    a+=b\n",
    "    l=sigmoid(a)\n",
    "    return l\n"
   ]
  },
  {
   "cell_type": "markdown",
   "metadata": {
    "id": "YjAm_AKN7Qk-"
   },
   "source": [
    "# *Problem 1(b)*\n",
    "\n",
    "Now, we compute the numeric gradient for the function L. Refer to [this](https://stackoverflow.com/questions/38854363/is-there-any-standard-way-to-calculate-the-numerical-gradient) stack exchange post to see how numeric gradients are computed"
   ]
  },
  {
   "cell_type": "code",
   "execution_count": 153,
   "metadata": {
    "id": "Ur4CfvOf7YeR"
   },
   "outputs": [
    {
     "name": "stdout",
     "output_type": "stream",
     "text": [
      "[-0.1651999474924868, -0.6035220945810986, -0.21952445373835638, 0.0, -0.24935596035415367, -0.2515553085253607, 0.0, 0.0, 0.0, 0.0]\n"
     ]
    }
   ],
   "source": [
    "def numeric_grad(w,y,x,b) : \n",
    "\n",
    "    ### WRITE CODE BELOW ###\n",
    "    mult=[]\n",
    "    for i in range(0,10):\n",
    "        l=(y[i]*(np.log(funxtion1(w,x,10**(-2.5),b))))\n",
    "        l+=((1-y[i])*(np.log(1-funxtion1(w,x,10**(-2.5),b))))\n",
    "        z=(y[i]*(np.log(funxtion1(w,x,-10**(-2.5),b))))\n",
    "        z+=((1-y[i])*(np.log(1-funxtion1(w,x,10**(-2.5),b))))\n",
    "        h=2*(x[i]*10**(-2.5))\n",
    "        t=(z-l)/h\n",
    "        mult.append(t)\n",
    "    return mult\n",
    "print(numeric_grad(w,y,x,b))\n",
    "\n",
    "\n",
    "    ### WRITE CODE ABOVE ###"
   ]
  },
  {
   "cell_type": "markdown",
   "metadata": {
    "id": "MwJI9VYhLjCi"
   },
   "source": [
    "\n",
    "# *Problem 2*\n",
    "\n",
    "Here, we'll be looking at computational graphs, and their calculus, finding gradients of  variables with respect to other variables in the graph.\n",
    "\n"
   ]
  },
  {
   "cell_type": "markdown",
   "metadata": {
    "id": "0wwEXqQEREOH"
   },
   "source": [
    "We'll be looking at nodes of the graph that are operation based, i.e., each operation performed has a node associated with it.\n",
    "\n",
    "We'll provide you with example implementations for three of the nodes, the *add* node, the *nth power* node and the *sine* node, you'll have to write the classes for all the other nodes."
   ]
  },
  {
   "cell_type": "markdown",
   "metadata": {
    "id": "YIeEOTBytyGB"
   },
   "source": [
    "# **Multi-input nodes**"
   ]
  },
  {
   "cell_type": "code",
   "execution_count": 44,
   "metadata": {
    "id": "JQuHj5IctK4N"
   },
   "outputs": [],
   "source": [
    "class Add: \n",
    "  \n",
    "  # A class to add multiple variables together\n",
    "    def __init__(self, lst_names, lst_values):\n",
    "        self.lst_names = lst_names # This numpy arr contains all the variable names that are to be added, with each variable name in datatype str.\n",
    "                               # Scalar addition is taken care of in a separate node, we could have fit into this node but thought it might be easier if it wasn't.\n",
    "                               # So cases like \"a + 1\" are to be done separately, and cases like \"b + c + d + 4\" can be done as \"(b + c + d) + 4\" or \"b + c + (d + 4)\", since our scalar addition supports only one variable and one scalar, we'll get to that later\n",
    "        self.lst_values = lst_values # This numpy arr contains all the variable values that are to be added, as scalars.\n",
    "\n",
    "    def compute_output(self):\n",
    "        return np.sum(self.lst_values) # This computes the sum of all the variables\n",
    "  \n",
    "    def compute_gradients(self):\n",
    "        return dict(zip(self.lst_names, np.ones(len(self.lst_names)))) # This gives the gradient of the sum wrt to all the input variables, as a dictionary, will be used later\n",
    "\n",
    "\n",
    "\n",
    "    \n",
    "class Multiply: \n",
    "  \n",
    "  #Everything's almost the same as the add class, but this deals with multiplication of more than 1 variables\n",
    "    def __init__(self, lst_names, lst_values):\n",
    "        self.lst_names = lst_names # This numpy arr contains all the variable names that are to be multiplied, with each variable name in datatype str.\n",
    "                               # Scalar multiplication is taken care of in a separate node\n",
    "        self.lst_values = lst_values # This numpy arr contains all the variable values that are to be multiplied, as scalars.\n",
    "\n",
    "    def compute_output(self):\n",
    "    \n",
    "    \n",
    "    # Write your code to compute the output of this operation\n",
    "    \n",
    "        return  np.prod(self.lst_values)\n",
    "  \n",
    "    def compute_gradients(self):\n",
    "    \n",
    "    #Write your code to create a dictionary, storing all the gradients of the output wrt to each input (In this case there is only a single input that matters)\n",
    "        mydict={}\n",
    "        mydict[self.lst_names[0]]=np.multiply(self.lst_values[1],self.lst_values[2])\n",
    "        mydict[self.lst_names[1]]=np.multiply(self.lst_values[2],self.lst_values[0])\n",
    "        mydict[self.lst_names[2]]=np.multiply(self.lst_values[0],self.lst_values[1])\n",
    "        \n",
    "        return mydict\n"
   ]
  },
  {
   "cell_type": "markdown",
   "metadata": {
    "id": "_QpfDyxht7Ob"
   },
   "source": [
    "# **Scalar multiplication/addition nodes**"
   ]
  },
  {
   "cell_type": "code",
   "execution_count": 45,
   "metadata": {
    "id": "-0RqnZrStbyI"
   },
   "outputs": [],
   "source": [
    "class Add_Scalar: \n",
    "  \n",
    "  # A class to add a variable with a scalar\n",
    "    def __init__(self, lst_names, lst_values,scalar):\n",
    "        self.lst_names = lst_names # This numpy arr contains all the variable names that are to be added, with each variable name in datatype str.\n",
    "                               # This list must only have 2 elements, the first should be the string corresponding to the name of the variable, and the second should be a string of the scalar value to be added.\n",
    "        self.lst_values = lst_values # This numpy arr contains all the variable values that are to be added, as scalars.\n",
    "        self.scalar=scalar\n",
    "    def compute_output(self):\n",
    "    # Write your code to compute the output of this operation\n",
    "        return (scalar+np.sum(self.lst_values))\n",
    "\n",
    "    def compute_gradients(self):\n",
    "    # Write your code to create a dictionary, storing all the gradients of the output wrt to each input (In this case there is only a single input that matters)\n",
    "        return dict(zip(self.lst_names, np.ones(len(self.lst_names))))  \n",
    "    \n",
    "    \n",
    "class Multiply_Scalar: \n",
    "  \n",
    "  # A class to multiply a variable with a scalar\n",
    "    def __init__(self, lst_names, lst_values,scalar):\n",
    "        self.lst_names = lst_names # This numpy arr contains all the variable names that are to be multiplied, with each variable name in datatype str.\n",
    "                               # This list must only have 2 elements, the first should be the string corresponding to the name of the variable, and the second should be a string of the scalar value to be multiplied.\n",
    "        self.lst_values = lst_values # This numpy arr contains all the variable values that are to be multiplied, as scalars.\n",
    "        self.scalar=scalar\n",
    "    def compute_output(self):\n",
    "    # Write your code to compute the output of this operation\n",
    "#         return np.multiply(self.lst_values)*self.scalar\n",
    "        return self.lst_values*self.scalar\n",
    "    \n",
    "\n",
    "    def compute_gradients(self):\n",
    "    # Write your code to create a dictionary, storing all the gradients of the output wrt to each input (In this case there is only a single input that matters\n",
    "        return {self.lst_names : self.scalar}\n",
    "    \n",
    "    \n",
    "    "
   ]
  },
  {
   "cell_type": "markdown",
   "metadata": {
    "id": "iF4EA5CLuKXR"
   },
   "source": [
    "# **Nodes for special functions**"
   ]
  },
  {
   "cell_type": "code",
   "execution_count": 46,
   "metadata": {
    "id": "RzhhbukvRBD-"
   },
   "outputs": [],
   "source": [
    "class Power:\n",
    "\n",
    "    def __init__(self, name, value, exponent):\n",
    "        self.name = name # Name of the variable to be exponentiated\n",
    "        self.value = value # Value of the variable\n",
    "        self.exponent = exponent # Value of the exponent\n",
    "\n",
    "    def compute_output(self):\n",
    "        return np.power(self.value, self.exponent)\n",
    "\n",
    "    def compute_gradients(self):\n",
    "        return {self.name : self.exponent*(np.power(self.value, (self.exponent - 1)))}\n",
    "\n",
    "class Sine: \n",
    "\n",
    "  # A class to apply the sine function on a variable\n",
    "    def __init__(self, name, value):\n",
    "        self.name = name\n",
    "        self.value = value\n",
    "    \n",
    "    def compute_output(self):\n",
    "        return np.sin(self.value)\n",
    "\n",
    "    def compute_gradients(self):\n",
    "        return {self.name : np.cos(self.value)}\n",
    "\n",
    "\n",
    "class Logarithm:\n",
    "\n",
    "  # A class to compute the logarithm of a value\n",
    "    def __init__(self, name, value):\n",
    "        self.name = name\n",
    "        self.value = value\n",
    "\n",
    "    def compute_output(self):\n",
    "\n",
    "    # Write your code here\n",
    "        return np.log(self.value)\n",
    "\n",
    "\n",
    "    def compute_gradients(self):\n",
    "\n",
    "\n",
    "    # Write your code here\n",
    "        return {self.name : self.value**(-1)}\n",
    "\n",
    "class Exponential: \n",
    "\n",
    "  # A class to compute the exponential of a value\n",
    "    def __init__(self, name, value):\n",
    "        self.name = name\n",
    "        self.value = value\n",
    "\n",
    "    def compute_output(self):\n",
    "\n",
    "    # Write your code here\n",
    "       return np.exp(self.value)\n",
    "\n",
    "\n",
    "    def compute_gradients(self):\n",
    "\n",
    "    # Write your code here\n",
    "        return {self.name : np.exp(self.value)*(-1)**self.value}\n"
   ]
  },
  {
   "cell_type": "markdown",
   "metadata": {
    "id": "BsUmSRPKXau8"
   },
   "source": [
    "Now that we have these classes, let's use them to actually find gradients of complex networks. We finally bring in the idea of a computational graph, which makes it much easier for the gradients to be computed.\n",
    "\n",
    "This is the image of the example graph that we want you to work with. \n",
    "\n",
    "\n",
    "\n"
   ]
  },
  {
   "cell_type": "markdown",
   "metadata": {
    "id": "e2hDABSUr8Px"
   },
   "source": [
    "<div>\n",
    "<img src=\"https://drive.google.com/uc?id=1VtI1lf85bG8cO1u_8l0D0rqVGhwHQtPK\"\n",
    " width=\"500\" height=\"500\">\n",
    "</div>\n"
   ]
  },
  {
   "cell_type": "markdown",
   "metadata": {
    "id": "tPKf5T4lrjxY"
   },
   "source": [
    "\\begin{equation}\n",
    "d = 3a \\\\ \n",
    "e = abc \\\\ \n",
    "f = sin(c) \\\\ \n",
    "g = exp(e) \\\\ \n",
    "h = a + d + g + f\n",
    "\\end{equation}"
   ]
  },
  {
   "cell_type": "markdown",
   "metadata": {
    "id": "lnOQqmnlw7eN"
   },
   "source": [
    "# **Forward Propogation**"
   ]
  },
  {
   "cell_type": "code",
   "execution_count": 69,
   "metadata": {
    "id": "GM2n6S4sw-r_"
   },
   "outputs": [],
   "source": [
    "def forward_prop(a, b, c) : \n",
    "    '''\n",
    "    Input : real numbers a, b, c.\n",
    "\n",
    "    Outputs : A dictionary of the values at each node with keys as the names of nodes\n",
    "    Grads : A dictionary of the gradients at each edge with keys as a pair of nodes \n",
    "    \n",
    "    e.g. Grads[\"ce\"] = ...\n",
    "    '''\n",
    "    r=\"abc\"\n",
    "    mat=[]\n",
    "    gl=np.array([a, b, c])\n",
    "    mat.append(gl[0])\n",
    "    mult=Multiply(r,gl)\n",
    "    e_gradient=mult.compute_gradients()\n",
    "    e=mult.compute_output()\n",
    "\n",
    "    sine=Sine('c',gl[2])\n",
    "    f=sine.compute_output()\n",
    "    mat.append(f)\n",
    "    f_gradient=sine.compute_gradients()\n",
    "   \n",
    "    exponential=Exponential('e',e)\n",
    "    g=exponential.compute_output()\n",
    "    mat.append(g)\n",
    "    g_gradient=exponential.compute_gradients()\n",
    "    \n",
    "    Mult_scalar=Multiply_Scalar('a',gl[0],3)\n",
    "    d=Mult_scalar.compute_output()\n",
    "    mat.append(d)\n",
    "    d_gradient=Mult_scalar.compute_gradients()\n",
    "\n",
    "    y=\"adgf\"\n",
    "    add=Add(y,mat)\n",
    "    h=add.compute_output()\n",
    "    h_gradient=add.compute_gradients()\n",
    "    \n",
    "    mydict={}\n",
    "    mydict['d']=d\n",
    "    mydict['e']=e\n",
    "    mydict['f']=f\n",
    "    mydict['g']=g\n",
    "    mydict['h']=h\n",
    "    \n",
    "    \n",
    "    grad={}\n",
    "    grad['d_gradient']=d_gradient\n",
    "    grad['e_gradient']=e_gradient\n",
    "    grad['f_gradient']=f_gradient\n",
    "    grad['g_gradient']=g_gradient\n",
    "    grad['h_gradient']=h_gradient\n",
    "    \n",
    "    return (mydict, grad)\n",
    "\n",
    "\n",
    "\n"
   ]
  },
  {
   "cell_type": "code",
   "execution_count": 48,
   "metadata": {},
   "outputs": [
    {
     "name": "stdout",
     "output_type": "stream",
     "text": [
      "[4, 0.9092974268256817, 26489122129.84347, 12]\n"
     ]
    }
   ],
   "source": [
    "\n"
   ]
  },
  {
   "cell_type": "markdown",
   "metadata": {
    "id": "ApNrGkHJxjMw"
   },
   "source": [
    "\n",
    "# **Backward Propogation**"
   ]
  },
  {
   "cell_type": "markdown",
   "metadata": {
    "id": "450-YOv8fqmR"
   },
   "source": [
    "Most of the usage of computational graphs in Machine Learning centers around finding the gradients of a particular loss, wrt to all the parameters. Here, your task is to do a simpler version of that.\n",
    "\n",
    "Use the classes you wrote to calculate the following gradients : \n",
    "\n",
    "\n",
    "*   $ \\frac{\\partial h}{\\partial a}$\n",
    "*   $ \\frac{\\partial h}{\\partial b}$\n",
    "*   $ \\frac{\\partial h}{\\partial c}$\n",
    "\n",
    "Use the technique of *backpropogation* to code out the gradients step-wise, along all possible chains of the graph starting from $h$ and ending at $a,b,c$ respectively. \n",
    "\n",
    "Don't try to directly get these values without backpropogation, it might be easier here, but with complicated neural networks it wouldn't be :) \n",
    "\n"
   ]
  },
  {
   "cell_type": "code",
   "execution_count": 92,
   "metadata": {
    "id": "YwL98tWexpGy"
   },
   "outputs": [],
   "source": [
    "\n",
    "def backward_prop(a, b, c, Outputs, Grad) : \n",
    "    '''\n",
    "    Input : a, b, c (input layer); Outputs (values at each node); Grads (gradients stored at each edge)\n",
    "    Retuns : result (gradients w.r.t a, b, c)\n",
    "    '''\n",
    "    result=[]\n",
    "    dh_da=(Grad['h_gradient']['a']*Grad['d_gradient']['a'])+Grad['h_gradient']['a']+(Grad['h_gradient']['g'])*(Grad['g_gradient']['e']*Grad['e_gradient']['a'])\n",
    "    result.append(dh_da)\n",
    "    dh_db=(Grad['h_gradient']['g']*Grad['g_gradient']['e']*Grad['e_gradient']['b'])\n",
    "    result.append(dh_db)\n",
    "    dh_dc=(Grad['h_gradient']['f']*Grad['f_gradient']['c'])+(Grad['h_gradient']['g']*Grad['g_gradient']['e']*Grad['e_gradient']['c'])\n",
    "    result.append(dh_dc)\n",
    "    \n",
    "    return result\n"
   ]
  },
  {
   "cell_type": "markdown",
   "metadata": {
    "id": "hOsnYr0lx_KT"
   },
   "source": [
    "# **Combining both processes**\n",
    "\n",
    "For the purpose of values, assume that $a = 3, b = 1, c = 2$. Here, we call both forward and backward propogation functions to demonstrate functionality of the functions above."
   ]
  },
  {
   "cell_type": "code",
   "execution_count": 94,
   "metadata": {
    "id": "cn-KFyH4yWAJ"
   },
   "outputs": [
    {
     "name": "stdout",
     "output_type": "stream",
     "text": [
      "Value obtained upon forward propogation : 416.3380909195608\n",
      "{'d_gradient': {'a': 3}, 'e_gradient': {'a': 2, 'b': 6, 'c': 3}, 'f_gradient': {'c': -0.4161468365471424}, 'g_gradient': {'e': 403.4287934927351}, 'h_gradient': {'a': 1.0, 'd': 1.0, 'g': 1.0, 'f': 1.0}}\n",
      "Values of gradients are : 810.8575869854702, 2420.5727609564105, 1209.8702336416582\n"
     ]
    }
   ],
   "source": [
    "# Initialisation\n",
    "a = 3\n",
    "b = 1\n",
    "c = 2\n",
    "\n",
    "# Forward propogation\n",
    "(Outputs, Grad) = forward_prop(a, b, c)\n",
    "print(f\"Value obtained upon forward propogation : {Outputs['h']}\")\n",
    "\n",
    "\n",
    "# # Backward propogation\n",
    "\n",
    "result = backward_prop(a, b, c, Outputs, Grad)\n",
    "\n",
    "print(f'Values of gradients are : {result[0]}, {result[1]}, {result[2]}')"
   ]
  },
  {
   "cell_type": "markdown",
   "metadata": {
    "id": "iMTRGZQoy-VU"
   },
   "source": [
    "# **Submission Instructions**\n",
    "\n",
    "Upload this notebook on your github classroom repository by the name Week1.ipynb"
   ]
  },
  {
   "cell_type": "code",
   "execution_count": null,
   "metadata": {},
   "outputs": [],
   "source": []
  }
 ],
 "metadata": {
  "colab": {
   "provenance": []
  },
  "kernelspec": {
   "display_name": "Python 3 (ipykernel)",
   "language": "python",
   "name": "python3"
  },
  "language_info": {
   "codemirror_mode": {
    "name": "ipython",
    "version": 3
   },
   "file_extension": ".py",
   "mimetype": "text/x-python",
   "name": "python",
   "nbconvert_exporter": "python",
   "pygments_lexer": "ipython3",
   "version": "3.9.13"
  }
 },
 "nbformat": 4,
 "nbformat_minor": 1
}
